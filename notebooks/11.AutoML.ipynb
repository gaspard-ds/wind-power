{
 "cells": [
  {
   "cell_type": "markdown",
   "metadata": {},
   "source": [
    "## Imports"
   ]
  },
  {
   "cell_type": "code",
   "execution_count": 1,
   "metadata": {},
   "outputs": [],
   "source": [
    "%load_ext lab_black\n",
    "%load_ext autoreload\n",
    "%autoreload 2"
   ]
  },
  {
   "cell_type": "code",
   "execution_count": 4,
   "metadata": {},
   "outputs": [],
   "source": [
    "from supervised.automl import AutoML\n",
    "from sklearn.model_selection import train_test_split\n",
    "from pathlib import Path\n",
    "import joblib\n",
    "import pandas as pd\n",
    "import numpy as np\n",
    "\n",
    "# Fixing the random seed\n",
    "np.random.seed(10)"
   ]
  },
  {
   "cell_type": "code",
   "execution_count": 5,
   "metadata": {},
   "outputs": [],
   "source": [
    "import sys\n",
    "\n",
    "sys.path.append(\"../\")  # append parent dir to sys.path"
   ]
  },
  {
   "cell_type": "code",
   "execution_count": 6,
   "metadata": {},
   "outputs": [],
   "source": [
    "import wind_constants as cst\n",
    "import main\n",
    "import feature_engineering as fe"
   ]
  },
  {
   "cell_type": "code",
   "execution_count": 7,
   "metadata": {},
   "outputs": [],
   "source": [
    "import matplotlib.pyplot as plt\n",
    "import seaborn as sns"
   ]
  },
  {
   "cell_type": "code",
   "execution_count": 8,
   "metadata": {},
   "outputs": [],
   "source": [
    "plt.rcParams.update(cst.params)\n",
    "sns.set_style(\"white\")"
   ]
  },
  {
   "cell_type": "code",
   "execution_count": 9,
   "metadata": {},
   "outputs": [],
   "source": [
    "pd.set_option(\"max_colwidth\", 1500)\n",
    "pd.set_option(\"display.width\", None)"
   ]
  },
  {
   "cell_type": "markdown",
   "metadata": {},
   "source": [
    "## Feature Engineering "
   ]
  },
  {
   "cell_type": "code",
   "execution_count": 10,
   "metadata": {},
   "outputs": [],
   "source": [
    "data = joblib.load(\"../data/processed/processed_uncleaned.joblib\")"
   ]
  },
  {
   "cell_type": "code",
   "execution_count": 13,
   "metadata": {},
   "outputs": [],
   "source": [
    "X_train, X_test, y_train, y_test = train_test_split(\n",
    "    data[cst.FEATURES], data[cst.TARGET], test_size=0.5, shuffle=False\n",
    ")"
   ]
  },
  {
   "cell_type": "markdown",
   "metadata": {},
   "source": [
    "## MLjar Explain "
   ]
  },
  {
   "cell_type": "code",
   "execution_count": 17,
   "metadata": {},
   "outputs": [],
   "source": [
    "automl = AutoML(mode=\"Explain\", explain_level=2)"
   ]
  },
  {
   "cell_type": "code",
   "execution_count": 18,
   "metadata": {},
   "outputs": [
    {
     "name": "stdout",
     "output_type": "stream",
     "text": [
      "AutoML directory: AutoML_2\n",
      "The task is regression with evaluation metric rmse\n",
      "AutoML will use algorithms: ['Baseline', 'Linear', 'Decision Tree', 'Random Forest', 'Xgboost', 'Neural Network']\n",
      "AutoML will ensemble availabe models\n",
      "AutoML steps: ['simple_algorithms', 'default_algorithms', 'ensemble']\n",
      "* Step simple_algorithms will try to check up to 3 models\n",
      "1_Baseline rmse 0.17012 trained in 0.11 seconds\n",
      "2_DecisionTree rmse 0.093554 trained in 6.14 seconds\n",
      "3_Linear rmse 0.067575 trained in 3.05 seconds\n",
      "* Step default_algorithms will try to check up to 3 models\n",
      "4_Default_RandomForest rmse 0.069982 trained in 8.37 seconds\n",
      "5_Default_Xgboost rmse 0.052356 trained in 10.73 seconds\n",
      "6_Default_NeuralNetwork rmse 0.056 trained in 13.15 seconds\n",
      "* Step ensemble will try to check up to 1 model\n",
      "Ensemble rmse 0.051063 trained in 0.17 seconds\n",
      "AutoML fit time: 50.47 seconds\n"
     ]
    },
    {
     "data": {
      "text/plain": [
       "AutoML(explain_level=2)"
      ]
     },
     "execution_count": 18,
     "metadata": {},
     "output_type": "execute_result"
    }
   ],
   "source": [
    "automl.fit(X_train, y_train)"
   ]
  },
  {
   "cell_type": "code",
   "execution_count": 16,
   "metadata": {},
   "outputs": [],
   "source": [
    "predictions = automl.predict(X_test)"
   ]
  },
  {
   "cell_type": "markdown",
   "metadata": {},
   "source": [
    "## MLjar Perform"
   ]
  },
  {
   "cell_type": "code",
   "execution_count": 21,
   "metadata": {},
   "outputs": [],
   "source": [
    "automl = AutoML(mode=\"Perform\", explain_level=2)"
   ]
  },
  {
   "cell_type": "code",
   "execution_count": 22,
   "metadata": {},
   "outputs": [
    {
     "name": "stdout",
     "output_type": "stream",
     "text": [
      "AutoML directory: AutoML_2\n",
      "The task is regression with evaluation metric rmse\n",
      "AutoML will use algorithms: ['Linear', 'Random Forest', 'LightGBM', 'Xgboost', 'CatBoost', 'Neural Network']\n",
      "AutoML will ensemble availabe models\n",
      "AutoML steps: ['simple_algorithms', 'default_algorithms', 'not_so_random', 'golden_features', 'insert_random_feature', 'features_selection', 'hill_climbing_1', 'hill_climbing_2', 'ensemble']\n",
      "* Step simple_algorithms will try to check up to 1 model\n",
      "1_Linear rmse 0.068233 trained in 22.18 seconds\n",
      "* Step default_algorithms will try to check up to 5 models\n",
      "2_Default_RandomForest rmse 0.0697 trained in 52.73 seconds\n",
      "3_Default_Xgboost rmse 0.051096 trained in 56.98 seconds\n",
      "4_Default_LightGBM rmse 0.050538 trained in 70.45 seconds\n",
      "5_Default_CatBoost rmse 0.048951 trained in 25.56 seconds\n",
      "6_Default_NeuralNetwork rmse 0.056412 trained in 111.81 seconds\n",
      "* Step not_so_random will try to check up to 20 models\n",
      "7_Xgboost rmse 0.053575 trained in 419.58 seconds\n",
      "8_Xgboost rmse 0.050331 trained in 83.3 seconds\n",
      "9_Xgboost rmse 0.052051 trained in 38.17 seconds\n",
      "10_Xgboost rmse 0.05095 trained in 128.16 seconds\n",
      "11_LightGBM rmse 0.050407 trained in 240.95 seconds\n",
      "12_LightGBM rmse 0.049971 trained in 80.27 seconds\n",
      "13_LightGBM rmse 0.050781 trained in 51.08 seconds\n",
      "14_LightGBM rmse 0.049353 trained in 237.05 seconds\n",
      "15_CatBoost rmse 0.05208 trained in 25.95 seconds\n",
      "16_CatBoost rmse 0.050559 trained in 14.41 seconds\n",
      "17_CatBoost rmse 0.050231 trained in 17.42 seconds\n",
      "18_CatBoost rmse 0.050723 trained in 22.22 seconds\n",
      "19_RandomForest rmse 0.069542 trained in 41.23 seconds\n",
      "20_RandomForest rmse 0.077871 trained in 36.22 seconds\n",
      "21_RandomForest rmse 0.064216 trained in 111.52 seconds\n",
      "22_RandomForest rmse 0.064062 trained in 121.32 seconds\n",
      "* Step golden_features will try to check up to 3 models\n",
      "Add Golden Feature: speed_28_ratio_temperature\n",
      "Add Golden Feature: temperature_ratio_speed_28\n",
      "Add Golden Feature: speed_28_ratio_pressure\n",
      "Add Golden Feature: pressure_ratio_speed_28\n",
      "Add Golden Feature: temperature_ratio_speed_53\n",
      "Created 5 Golden Features in 2.32 seconds.\n",
      "5_Default_CatBoost_GoldenFeatures rmse 0.049184 trained in 59.5 seconds\n",
      "14_LightGBM_GoldenFeatures rmse 0.049272 trained in 289.53 seconds\n",
      "8_Xgboost_GoldenFeatures rmse 0.050204 trained in 135.9 seconds\n",
      "* Step insert_random_feature will try to check up to 1 model\n",
      "5_Default_CatBoost_RandomFeature rmse 0.049257 trained in 27.18 seconds\n",
      "Drop features ['random_feature']\n",
      "Skip features_selection because no parameters were generated.\n",
      "* Step hill_climbing_1 will try to check up to 16 models\n",
      "23_CatBoost rmse 0.048479 trained in 48.16 seconds\n",
      "24_CatBoost rmse 0.050231 trained in 16.38 seconds\n",
      "25_CatBoost_GoldenFeatures rmse 0.048547 trained in 46.19 seconds\n",
      "26_CatBoost_GoldenFeatures rmse 0.050638 trained in 15.23 seconds\n",
      "27_LightGBM_GoldenFeatures rmse 0.04964 trained in 201.06 seconds\n",
      "28_LightGBM rmse 0.049913 trained in 146.74 seconds\n",
      "29_NeuralNetwork rmse 0.056931 trained in 84.28 seconds\n",
      "30_NeuralNetwork rmse 0.056088 trained in 69.94 seconds\n",
      "31_RandomForest rmse 0.065901 trained in 70.98 seconds\n",
      "32_RandomForest rmse 0.063576 trained in 124.27 seconds\n",
      "33_RandomForest rmse 0.066429 trained in 77.8 seconds\n",
      "34_RandomForest rmse 0.063512 trained in 114.27 seconds\n",
      "* Step hill_climbing_2 will try to check up to 8 models\n",
      "35_CatBoost rmse 0.048479 trained in 54.84 seconds\n",
      "* Step ensemble will try to check up to 1 model\n",
      "Ensemble rmse 0.047658 trained in 3.89 seconds\n",
      "AutoML fit time: 3615.47 seconds\n"
     ]
    },
    {
     "data": {
      "text/plain": [
       "AutoML(explain_level=2, mode='Perform')"
      ]
     },
     "execution_count": 22,
     "metadata": {},
     "output_type": "execute_result"
    }
   ],
   "source": [
    "automl.fit(X_train, y_train)"
   ]
  }
 ],
 "metadata": {
  "kernelspec": {
   "display_name": "automl",
   "language": "python",
   "name": "automl"
  },
  "language_info": {
   "codemirror_mode": {
    "name": "ipython",
    "version": 3
   },
   "file_extension": ".py",
   "mimetype": "text/x-python",
   "name": "python",
   "nbconvert_exporter": "python",
   "pygments_lexer": "ipython3",
   "version": "3.7.5"
  }
 },
 "nbformat": 4,
 "nbformat_minor": 4
}
